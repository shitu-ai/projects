{
 "cells": [
  {
   "cell_type": "code",
   "execution_count": null,
   "id": "c17d1444-15bf-4535-ac5c-6a1483896926",
   "metadata": {},
   "outputs": [],
   "source": [
    "To-Do List Manager"
   ]
  },
  {
   "cell_type": "code",
   "execution_count": null,
   "id": "7d8b6c63-afee-4fa9-a218-04dcf5bf8908",
   "metadata": {},
   "outputs": [
    {
     "name": "stdout",
     "output_type": "stream",
     "text": [
      "\n",
      "To-Do List Manager\n",
      "1. Add Task\n",
      "2. View Tasks\n",
      "3. Mark Task as Completed\n",
      "4. Delete Task\n",
      "5. Exit\n"
     ]
    },
    {
     "name": "stdin",
     "output_type": "stream",
     "text": [
      "Enter your choice (1/2/3/4/5):  2\n"
     ]
    },
    {
     "name": "stdout",
     "output_type": "stream",
     "text": [
      "\n",
      "All Tasks:\n",
      "\n",
      "To-Do List Manager\n",
      "1. Add Task\n",
      "2. View Tasks\n",
      "3. Mark Task as Completed\n",
      "4. Delete Task\n",
      "5. Exit\n"
     ]
    }
   ],
   "source": [
    "# Function to display the menu\n",
    "def display_menu():\n",
    "    print(\"\\nTo-Do List Manager\")\n",
    "    print(\"1. Add Task\")\n",
    "    print(\"2. View Tasks\")\n",
    "    print(\"3. Mark Task as Completed\")\n",
    "    print(\"4. Delete Task\")\n",
    "    print(\"5. Exit\")\n",
    "\n",
    "# Function to add a task to the to-do list\n",
    "def add_task(todo_list):\n",
    "    task = input(\"Enter the task: \")\n",
    "    todo_list.append({\"task\": task, \"completed\": False})\n",
    "    print(\"Task added successfully.\")\n",
    "\n",
    "# Function to view all tasks in the to-do list\n",
    "def view_tasks(todo_list):\n",
    "    print(\"\\nAll Tasks:\")\n",
    "    for index, task in enumerate(todo_list, start=1):\n",
    "        status = \"Completed\" if task[\"completed\"] else \"Pending\"\n",
    "        print(f\"{index}. {task['task']} - {status}\")\n",
    "\n",
    "# Function to mark a task as completed\n",
    "def mark_completed(todo_list):\n",
    "    view_tasks(todo_list)\n",
    "    task_index = int(input(\"Enter the task number to mark as completed: \")) - 1\n",
    "    if 0 <= task_index < len(todo_list):\n",
    "        todo_list[task_index][\"completed\"] = True\n",
    "        print(\"Task marked as completed.\")\n",
    "    else:\n",
    "        print(\"Invalid task number.\")\n",
    "\n",
    "# Function to delete a task from the to-do list\n",
    "def delete_task(todo_list):\n",
    "    view_tasks(todo_list)\n",
    "    task_index = int(input(\"Enter the task number to delete: \")) - 1\n",
    "    if 0 <= task_index < len(todo_list):\n",
    "        del todo_list[task_index]\n",
    "        print(\"Task deleted successfully.\")\n",
    "    else:\n",
    "        print(\"Invalid task number.\")\n",
    "\n",
    "# Main function to manage the to-do list\n",
    "def todo_list_manager():\n",
    "    todo_list = []\n",
    "\n",
    "    while True:\n",
    "        display_menu()\n",
    "        choice = input(\"Enter your choice (1/2/3/4/5): \")\n",
    "\n",
    "        if choice == '1':\n",
    "            add_task(todo_list)\n",
    "        elif choice == '2':\n",
    "            view_tasks(todo_list)\n",
    "        elif choice == '3':\n",
    "            mark_completed(todo_list)\n",
    "        elif choice == '4':\n",
    "            delete_task(todo_list)\n",
    "        elif choice == '5':\n",
    "            print(\"Exiting the To-Do List Manager. Goodbye!\")\n",
    "            break\n",
    "        else:\n",
    "            print(\"Invalid choice. Please enter a valid option.\")\n",
    "\n",
    "# Call the main function to start the To-Do List Manager\n",
    "todo_list_manager()\n"
   ]
  },
  {
   "cell_type": "code",
   "execution_count": null,
   "id": "c57477ae-7057-46b9-b1bb-351cf7288c8d",
   "metadata": {},
   "outputs": [],
   "source": []
  },
  {
   "cell_type": "code",
   "execution_count": null,
   "id": "035b09b1-337c-452c-88a4-8df56d56fe1c",
   "metadata": {},
   "outputs": [],
   "source": [
    "This script provides a simple command-line interface for managing a to-do list. \n",
    "Users can add tasks, view all tasks, mark tasks as completed, and delete tasks. \n",
    "The to-do list is stored as a list of dictionaries, where each dictionary represents a task with keys for the task description and its completion status. \n",
    "The program continues to prompt the user for input until they choose to exit."
   ]
  },
  {
   "cell_type": "code",
   "execution_count": null,
   "id": "00d1829c-6806-4644-94af-dee4b3d6ecb3",
   "metadata": {},
   "outputs": [],
   "source": [
    "what is application of  To-Do List Manager "
   ]
  },
  {
   "cell_type": "code",
   "execution_count": null,
   "id": "4c5f8d73-213a-4d8c-81f5-f4db1cdc1931",
   "metadata": {},
   "outputs": [],
   "source": [
    "The To-Do List Manager application serves as a practical tool for organizing tasks and managing daily activities. Here are some common applications and scenarios where a To-Do List Manager can be useful:\n",
    "\n",
    "1. **Personal Task Management**: Individuals can use a To-Do List Manager to keep track of their daily tasks, appointments, deadlines, and reminders. It helps in prioritizing tasks and staying organized.\n",
    "\n",
    "2. **Project Management**: Teams and individuals working on projects can use a To-Do List Manager to create and manage project tasks, assign responsibilities, track progress, and ensure that all project deliverables are completed on time.\n",
    "\n",
    "3. **Time Management**: By maintaining a To-Do List Manager, users can allocate time effectively to different tasks, set deadlines, and avoid procrastination. It helps in optimizing productivity and achieving goals efficiently.\n",
    "\n",
    "4. **Event Planning**: Event planners can use a To-Do List Manager to plan and organize events, manage tasks related to venue selection, vendor coordination, guest lists, catering, and other event logistics.\n",
    "\n",
    "5. **Academic Planning**: Students can use a To-Do List Manager to manage their academic assignments, projects, study schedules, exam dates, and extracurricular activities. It helps in staying on top of academic responsibilities and balancing workload effectively.\n",
    "\n",
    "6. **Workplace Task Management**: Employees can use a To-Do List Manager to manage their work-related tasks, prioritize assignments, track progress on projects, and collaborate with team members. It promotes efficient task delegation and enhances teamwork.\n",
    "\n",
    "7. **Goal Setting and Tracking**: Individuals can use a To-Do List Manager to set personal and professional goals, break them down into smaller tasks, and track progress over time. It helps in maintaining focus and motivation towards achieving long-term objectives.\n",
    "\n",
    "8. **Travel Planning**: Travelers can use a To-Do List Manager to plan and organize their travel itineraries, create packing lists, book accommodations, arrange transportation, and schedule sightseeing activities.\n",
    "\n",
    "9. **Household Chores Management**: Families can use a To-Do List Manager to distribute household chores among family members, schedule cleaning tasks, grocery shopping, meal planning, and other domestic responsibilities.\n",
    "\n",
    "10. **Health and Fitness Tracking**: Individuals can use a To-Do List Manager to plan and track their health and fitness goals, such as exercise routines, meal planning, hydration goals, and sleep schedules.\n",
    "\n",
    "Overall, the To-Do List Manager application is versatile and can be adapted to various contexts and requirements, helping users stay organized, focused, and productive in their daily lives."
   ]
  }
 ],
 "metadata": {
  "kernelspec": {
   "display_name": "Python 3 (ipykernel)",
   "language": "python",
   "name": "python3"
  },
  "language_info": {
   "codemirror_mode": {
    "name": "ipython",
    "version": 3
   },
   "file_extension": ".py",
   "mimetype": "text/x-python",
   "name": "python",
   "nbconvert_exporter": "python",
   "pygments_lexer": "ipython3",
   "version": "3.10.8"
  }
 },
 "nbformat": 4,
 "nbformat_minor": 5
}

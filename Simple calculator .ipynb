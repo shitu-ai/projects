{
 "cells": [
  {
   "cell_type": "raw",
   "id": "932b4752-cf8c-44e7-a924-34d2f46d2c56",
   "metadata": {},
   "source": [
    "Simple Calculator using by python function\n"
   ]
  },
  {
   "cell_type": "code",
   "execution_count": null,
   "id": "e22cdab8-06c1-4509-bdf1-6a45760b7a68",
   "metadata": {},
   "outputs": [
    {
     "name": "stdout",
     "output_type": "stream",
     "text": [
      "Simple Calculator Menu:\n",
      "1. Addition\n",
      "2. Subtraction\n",
      "3. Multiplication\n",
      "4. Division\n",
      "5. Exit\n"
     ]
    },
    {
     "name": "stdin",
     "output_type": "stream",
     "text": [
      "Enter choice (1/2/3/4/5):  3\n",
      "Enter first number:  34\n",
      "Enter second number:  34\n"
     ]
    },
    {
     "name": "stdout",
     "output_type": "stream",
     "text": [
      "Result: 1156.0\n",
      "Simple Calculator Menu:\n",
      "1. Addition\n",
      "2. Subtraction\n",
      "3. Multiplication\n",
      "4. Division\n",
      "5. Exit\n"
     ]
    }
   ],
   "source": [
    "# Function to add two numbers\n",
    "def add(x, y):\n",
    "    return x + y\n",
    "\n",
    "# Function to subtract two numbers\n",
    "def subtract(x, y):\n",
    "    return x - y\n",
    "\n",
    "# Function to multiply two numbers\n",
    "def multiply(x, y):\n",
    "    return x * y\n",
    "\n",
    "# Function to divide two numbers\n",
    "def divide(x, y):\n",
    "    if y == 0:\n",
    "        return \"Error: Cannot divide by zero!\"\n",
    "    else:\n",
    "        return x / y\n",
    "\n",
    "# Main function to display menu and perform calculations\n",
    "def calculator():\n",
    "    print(\"Simple Calculator Menu:\")\n",
    "    print(\"1. Addition\")\n",
    "    print(\"2. Subtraction\")\n",
    "    print(\"3. Multiplication\")\n",
    "    print(\"4. Division\")\n",
    "    print(\"5. Exit\")\n",
    "\n",
    "    choice = input(\"Enter choice (1/2/3/4/5): \")\n",
    "\n",
    "    if choice == '5':\n",
    "        print(\"Exiting the calculator. Goodbye!\")\n",
    "        return\n",
    "\n",
    "    num1 = float(input(\"Enter first number: \"))\n",
    "    num2 = float(input(\"Enter second number: \"))\n",
    "\n",
    "    if choice == '1':\n",
    "        print(\"Result:\", add(num1, num2))\n",
    "    elif choice == '2':\n",
    "        print(\"Result:\", subtract(num1, num2))\n",
    "    elif choice == '3':\n",
    "        print(\"Result:\", multiply(num1, num2))\n",
    "    elif choice == '4':\n",
    "        print(\"Result:\", divide(num1, num2))\n",
    "    else:\n",
    "        print(\"Invalid input. Please enter a valid choice.\")\n",
    "\n",
    "    calculator()\n",
    "\n",
    "# Call the calculator function to start the program\n",
    "calculator()\n"
   ]
  },
  {
   "cell_type": "code",
   "execution_count": null,
   "id": "6112328b-dcf0-4582-980d-392c85e6f3a2",
   "metadata": {},
   "outputs": [],
   "source": [
    "This script provides a simple command-line interface for performing basic arithmetic operations: addition, subtraction, multiplication, and division. \n",
    "It also handles division by zero by displaying an error message. \n",
    "Users can enter their choice of operation and input two numbers to perform the calculation. \n",
    "The calculator continues to prompt the user for input until they choose to exit."
   ]
  }
 ],
 "metadata": {
  "kernelspec": {
   "display_name": "Python 3 (ipykernel)",
   "language": "python",
   "name": "python3"
  },
  "language_info": {
   "codemirror_mode": {
    "name": "ipython",
    "version": 3
   },
   "file_extension": ".py",
   "mimetype": "text/x-python",
   "name": "python",
   "nbconvert_exporter": "python",
   "pygments_lexer": "ipython3",
   "version": "3.10.8"
  }
 },
 "nbformat": 4,
 "nbformat_minor": 5
}

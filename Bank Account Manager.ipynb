{
 "cells": [
  {
   "cell_type": "code",
   "execution_count": null,
   "id": "31403a63-6d21-4f1f-a109-36359ea27ec4",
   "metadata": {},
   "outputs": [],
   "source": [
    "Bank Account Manager:"
   ]
  },
  {
   "cell_type": "code",
   "execution_count": 1,
   "id": "cc1c9aa2-d64e-49ac-aaf5-643256349366",
   "metadata": {},
   "outputs": [
    {
     "name": "stdout",
     "output_type": "stream",
     "text": [
      "Welcome to the Bank Account Manager!\n"
     ]
    },
    {
     "name": "stdin",
     "output_type": "stream",
     "text": [
      "Enter your name:  shitanshu\n",
      "Enter initial balance:  2000\n"
     ]
    },
    {
     "name": "stdout",
     "output_type": "stream",
     "text": [
      "\n",
      "Menu:\n",
      "1. Deposit\n",
      "2. Withdraw\n",
      "3. Display Balance\n",
      "4. Exit\n"
     ]
    },
    {
     "name": "stdin",
     "output_type": "stream",
     "text": [
      "Enter your choice (1/2/3/4):  2 \n"
     ]
    },
    {
     "name": "stdout",
     "output_type": "stream",
     "text": [
      "Invalid choice. Please enter a valid option.\n",
      "\n",
      "Menu:\n",
      "1. Deposit\n",
      "2. Withdraw\n",
      "3. Display Balance\n",
      "4. Exit\n"
     ]
    },
    {
     "name": "stdin",
     "output_type": "stream",
     "text": [
      "Enter your choice (1/2/3/4):  3\n"
     ]
    },
    {
     "name": "stdout",
     "output_type": "stream",
     "text": [
      "Account Holder: shitanshu\n",
      "Current Balance: $2000.0\n",
      "\n",
      "Menu:\n",
      "1. Deposit\n",
      "2. Withdraw\n",
      "3. Display Balance\n",
      "4. Exit\n"
     ]
    },
    {
     "name": "stdin",
     "output_type": "stream",
     "text": [
      "Enter your choice (1/2/3/4):  4\n"
     ]
    },
    {
     "name": "stdout",
     "output_type": "stream",
     "text": [
      "Exiting the Bank Account Manager. Goodbye!\n"
     ]
    }
   ],
   "source": [
    "class BankAccount:\n",
    "    def __init__(self, name, balance=0):\n",
    "        self.name = name\n",
    "        self.balance = balance\n",
    "\n",
    "    def deposit(self, amount):\n",
    "        self.balance += amount\n",
    "        print(f\"Deposit of ${amount} successful. Current balance: ${self.balance}\")\n",
    "\n",
    "    def withdraw(self, amount):\n",
    "        if amount <= self.balance:\n",
    "            self.balance -= amount\n",
    "            print(f\"Withdrawal of ${amount} successful. Current balance: ${self.balance}\")\n",
    "        else:\n",
    "            print(\"Insufficient funds!\")\n",
    "\n",
    "    def display_balance(self):\n",
    "        print(f\"Account Holder: {self.name}\")\n",
    "        print(f\"Current Balance: ${self.balance}\")\n",
    "\n",
    "\n",
    "# Main function to manage bank accounts\n",
    "def bank_account_manager():\n",
    "    print(\"Welcome to the Bank Account Manager!\")\n",
    "\n",
    "    # Create a new bank account\n",
    "    name = input(\"Enter your name: \")\n",
    "    initial_balance = float(input(\"Enter initial balance: \"))\n",
    "    account = BankAccount(name, initial_balance)\n",
    "\n",
    "    while True:\n",
    "        print(\"\\nMenu:\")\n",
    "        print(\"1. Deposit\")\n",
    "        print(\"2. Withdraw\")\n",
    "        print(\"3. Display Balance\")\n",
    "        print(\"4. Exit\")\n",
    "\n",
    "        choice = input(\"Enter your choice (1/2/3/4): \")\n",
    "\n",
    "        if choice == '1':\n",
    "            amount = float(input(\"Enter amount to deposit: \"))\n",
    "            account.deposit(amount)\n",
    "        elif choice == '2':\n",
    "            amount = float(input(\"Enter amount to withdraw: \"))\n",
    "            account.withdraw(amount)\n",
    "        elif choice == '3':\n",
    "            account.display_balance()\n",
    "        elif choice == '4':\n",
    "            print(\"Exiting the Bank Account Manager. Goodbye!\")\n",
    "            break\n",
    "        else:\n",
    "            print(\"Invalid choice. Please enter a valid option.\")\n",
    "\n",
    "\n",
    "# Call the main function to start the Bank Account Manager\n",
    "bank_account_manager()\n"
   ]
  },
  {
   "cell_type": "code",
   "execution_count": null,
   "id": "b71e9d7a-ae41-4c6a-b496-64e7dbc04704",
   "metadata": {},
   "outputs": [],
   "source": []
  }
 ],
 "metadata": {
  "kernelspec": {
   "display_name": "Python 3 (ipykernel)",
   "language": "python",
   "name": "python3"
  },
  "language_info": {
   "codemirror_mode": {
    "name": "ipython",
    "version": 3
   },
   "file_extension": ".py",
   "mimetype": "text/x-python",
   "name": "python",
   "nbconvert_exporter": "python",
   "pygments_lexer": "ipython3",
   "version": "3.10.8"
  }
 },
 "nbformat": 4,
 "nbformat_minor": 5
}
